{
 "cells": [
  {
   "cell_type": "code",
   "execution_count": 47,
   "metadata": {},
   "outputs": [],
   "source": [
    "from pyspark.sql import SparkSession\n",
    "import numpy as np\n",
    "from pyspark.ml.classification import LogisticRegression\n",
    "from pyspark.ml.linalg import Vectors\n",
    "from pyspark.ml.feature import VectorAssembler\n",
    "from pyspark.ml.feature import StringIndexer\n",
    "from pyspark.ml.feature import OneHotEncoder\n",
    "from pyspark.ml.feature import VectorIndexer\n",
    "from pyspark.ml.feature import StringIndexer\n",
    "from pyspark.ml import Pipeline\n",
    "from pyspark.ml.evaluation import BinaryClassificationEvaluator, MulticlassClassificationEvaluator"
   ]
  },
  {
   "cell_type": "code",
   "execution_count": 4,
   "metadata": {},
   "outputs": [],
   "source": [
    "spark = SparkSession.builder.appName('LR').getOrCreate()"
   ]
  },
  {
   "cell_type": "code",
   "execution_count": 7,
   "metadata": {},
   "outputs": [],
   "source": [
    "data = spark.read.format('libsvm').load('/home/sai/ex/ML/Log/sample_libsvm_data.txt')"
   ]
  },
  {
   "cell_type": "code",
   "execution_count": 8,
   "metadata": {},
   "outputs": [
    {
     "name": "stdout",
     "output_type": "stream",
     "text": [
      "+-----+--------------------+\n",
      "|label|            features|\n",
      "+-----+--------------------+\n",
      "|  0.0|(692,[127,128,129...|\n",
      "|  1.0|(692,[158,159,160...|\n",
      "|  1.0|(692,[124,125,126...|\n",
      "|  1.0|(692,[152,153,154...|\n",
      "|  1.0|(692,[151,152,153...|\n",
      "|  0.0|(692,[129,130,131...|\n",
      "|  1.0|(692,[158,159,160...|\n",
      "|  1.0|(692,[99,100,101,...|\n",
      "|  0.0|(692,[154,155,156...|\n",
      "|  0.0|(692,[127,128,129...|\n",
      "|  1.0|(692,[154,155,156...|\n",
      "|  0.0|(692,[153,154,155...|\n",
      "|  0.0|(692,[151,152,153...|\n",
      "|  1.0|(692,[129,130,131...|\n",
      "|  0.0|(692,[154,155,156...|\n",
      "|  1.0|(692,[150,151,152...|\n",
      "|  0.0|(692,[124,125,126...|\n",
      "|  0.0|(692,[152,153,154...|\n",
      "|  1.0|(692,[97,98,99,12...|\n",
      "|  1.0|(692,[124,125,126...|\n",
      "+-----+--------------------+\n",
      "only showing top 20 rows\n",
      "\n"
     ]
    }
   ],
   "source": [
    "data.show()"
   ]
  },
  {
   "cell_type": "code",
   "execution_count": 14,
   "metadata": {},
   "outputs": [],
   "source": [
    "#Split data\n",
    "tr_data, ts_data = data.randomSplit([0.8,0.2])"
   ]
  },
  {
   "cell_type": "code",
   "execution_count": 15,
   "metadata": {},
   "outputs": [],
   "source": [
    "cls = LogisticRegression()"
   ]
  },
  {
   "cell_type": "code",
   "execution_count": 16,
   "metadata": {},
   "outputs": [],
   "source": [
    "model = cls.fit(tr_data)"
   ]
  },
  {
   "cell_type": "code",
   "execution_count": 17,
   "metadata": {},
   "outputs": [],
   "source": [
    "summary_ = model.summary"
   ]
  },
  {
   "cell_type": "code",
   "execution_count": 18,
   "metadata": {},
   "outputs": [
    {
     "name": "stdout",
     "output_type": "stream",
     "text": [
      "root\n",
      " |-- label: double (nullable = true)\n",
      " |-- features: vector (nullable = true)\n",
      " |-- rawPrediction: vector (nullable = true)\n",
      " |-- probability: vector (nullable = true)\n",
      " |-- prediction: double (nullable = true)\n",
      "\n"
     ]
    }
   ],
   "source": [
    "summary_.predictions.printSchema()"
   ]
  },
  {
   "cell_type": "code",
   "execution_count": 19,
   "metadata": {},
   "outputs": [
    {
     "name": "stdout",
     "output_type": "stream",
     "text": [
      "+-----+--------------------+--------------------+--------------------+----------+\n",
      "|label|            features|       rawPrediction|         probability|prediction|\n",
      "+-----+--------------------+--------------------+--------------------+----------+\n",
      "|  0.0|(692,[95,96,97,12...|[21.5749925205941...|[0.99999999957332...|       0.0|\n",
      "|  0.0|(692,[98,99,100,1...|[29.8250065929515...|[0.99999999999988...|       0.0|\n",
      "|  0.0|(692,[100,101,102...|[19.1943368105082...|[0.99999999538676...|       0.0|\n",
      "|  0.0|(692,[121,122,123...|[22.5776751718222...|[0.99999999984345...|       0.0|\n",
      "|  0.0|(692,[122,123,124...|[19.7073348559742...|[0.99999999723806...|       0.0|\n",
      "|  0.0|(692,[122,123,148...|[20.5397585586786...|[0.99999999879857...|       0.0|\n",
      "|  0.0|(692,[123,124,125...|[26.0194291472572...|[0.99999999999498...|       0.0|\n",
      "|  0.0|(692,[123,124,125...|[30.1981782262855...|[0.99999999999992...|       0.0|\n",
      "|  0.0|(692,[124,125,126...|[24.4077147799599...|[0.99999999997488...|       0.0|\n",
      "|  0.0|(692,[124,125,126...|[27.8770137366626...|[0.99999999999921...|       0.0|\n",
      "|  0.0|(692,[124,125,126...|[22.4089928791737...|[0.99999999981469...|       0.0|\n",
      "|  0.0|(692,[124,125,126...|[21.5243071841999...|[0.99999999955113...|       0.0|\n",
      "|  0.0|(692,[125,126,127...|[20.5216388448998...|[0.99999999877660...|       0.0|\n",
      "|  0.0|(692,[126,127,128...|[21.3393960432349...|[0.99999999945996...|       0.0|\n",
      "|  0.0|(692,[126,127,128...|[20.8758793132973...|[0.99999999914153...|       0.0|\n",
      "|  0.0|(692,[126,127,128...|[30.5383020826615...|[0.99999999999994...|       0.0|\n",
      "|  0.0|(692,[126,127,128...|[20.5619203587586...|[0.99999999882490...|       0.0|\n",
      "|  0.0|(692,[126,127,128...|[26.0348813136796...|[0.99999999999506...|       0.0|\n",
      "|  0.0|(692,[126,127,128...|[28.9527678060255...|[0.99999999999973...|       0.0|\n",
      "|  0.0|(692,[126,127,128...|[23.5640082456788...|[0.99999999994161...|       0.0|\n",
      "+-----+--------------------+--------------------+--------------------+----------+\n",
      "only showing top 20 rows\n",
      "\n"
     ]
    }
   ],
   "source": [
    "summary_.predictions.show()"
   ]
  },
  {
   "cell_type": "code",
   "execution_count": 26,
   "metadata": {},
   "outputs": [],
   "source": [
    "pred = model.evaluate(ts_data)"
   ]
  },
  {
   "cell_type": "code",
   "execution_count": 28,
   "metadata": {},
   "outputs": [
    {
     "name": "stdout",
     "output_type": "stream",
     "text": [
      "+-----+--------------------+--------------------+--------------------+----------+\n",
      "|label|            features|       rawPrediction|         probability|prediction|\n",
      "+-----+--------------------+--------------------+--------------------+----------+\n",
      "|  0.0|(692,[123,124,125...|[22.5797751085149...|[0.99999999984378...|       0.0|\n",
      "|  0.0|(692,[124,125,126...|[30.6159567744561...|[0.99999999999994...|       0.0|\n",
      "|  0.0|(692,[124,125,126...|[25.1933770889735...|[0.99999999998855...|       0.0|\n",
      "|  0.0|(692,[126,127,128...|[15.4626736332726...|[0.99999980740452...|       0.0|\n",
      "|  0.0|(692,[127,128,129...|[14.7087661115097...|[0.99999959067915...|       0.0|\n",
      "|  0.0|(692,[128,129,130...|[13.6517897293408...|[0.99999882211595...|       0.0|\n",
      "|  0.0|(692,[129,130,131...|[12.6739728325224...|[0.99999686842963...|       0.0|\n",
      "|  0.0|(692,[150,151,152...|[27.1519711378645...|[0.99999999999838...|       0.0|\n",
      "|  0.0|(692,[153,154,155...|[27.7802704814869...|[0.99999999999913...|       0.0|\n",
      "|  1.0|(692,[99,100,101,...|[-9.5362641613223...|[7.21808094319764...|       1.0|\n",
      "|  1.0|(692,[124,125,126...|[-29.886008204539...|[1.04874897808106...|       1.0|\n",
      "|  1.0|(692,[127,128,155...|[-23.549122918397...|[5.92578462537911...|       1.0|\n",
      "|  1.0|(692,[128,129,130...|[-27.205842183516...|[1.52986413745241...|       1.0|\n",
      "|  1.0|(692,[128,129,130...|[-23.771134401513...|[4.74599745310852...|       1.0|\n",
      "|  1.0|(692,[129,130,131...|[-30.879290738876...|[3.88413599136291...|       1.0|\n",
      "|  1.0|(692,[150,151,152...|[-23.070466128698...|[9.56365421547108...|       1.0|\n",
      "|  1.0|(692,[152,153,154...|[-17.276951097678...|[3.13845178081369...|       1.0|\n",
      "|  1.0|(692,[155,156,157...|[-21.522603746204...|[4.49626558969072...|       1.0|\n",
      "|  1.0|(692,[156,157,158...|[-21.106765673944...|[6.81472188665919...|       1.0|\n",
      "|  1.0|(692,[158,159,160...|[-20.564698555762...|[1.17183076236136...|       1.0|\n",
      "+-----+--------------------+--------------------+--------------------+----------+\n",
      "\n"
     ]
    }
   ],
   "source": [
    "pred.predictions.show()"
   ]
  },
  {
   "cell_type": "code",
   "execution_count": 23,
   "metadata": {},
   "outputs": [
    {
     "data": {
      "text/plain": [
       "1.0"
      ]
     },
     "execution_count": 23,
     "metadata": {},
     "output_type": "execute_result"
    }
   ],
   "source": [
    "pred.areaUnderROC"
   ]
  },
  {
   "cell_type": "code",
   "execution_count": 30,
   "metadata": {},
   "outputs": [],
   "source": [
    "eval_m = BinaryClassificationEvaluator()"
   ]
  },
  {
   "cell_type": "code",
   "execution_count": 31,
   "metadata": {},
   "outputs": [],
   "source": [
    "roc = eval_m.evaluate(pred.predictions)"
   ]
  },
  {
   "cell_type": "code",
   "execution_count": 32,
   "metadata": {},
   "outputs": [
    {
     "data": {
      "text/plain": [
       "1.0"
      ]
     },
     "execution_count": 32,
     "metadata": {},
     "output_type": "execute_result"
    }
   ],
   "source": [
    "roc"
   ]
  },
  {
   "cell_type": "markdown",
   "metadata": {},
   "source": [
    "# Titanic dataset"
   ]
  },
  {
   "cell_type": "code",
   "execution_count": 35,
   "metadata": {},
   "outputs": [],
   "source": [
    "data = spark.read.csv('/home/sai/ex/ML/Log/titanic.csv', inferSchema=True, header=True)"
   ]
  },
  {
   "cell_type": "code",
   "execution_count": 36,
   "metadata": {},
   "outputs": [
    {
     "name": "stdout",
     "output_type": "stream",
     "text": [
      "root\n",
      " |-- PassengerId: integer (nullable = true)\n",
      " |-- Survived: integer (nullable = true)\n",
      " |-- Pclass: integer (nullable = true)\n",
      " |-- Name: string (nullable = true)\n",
      " |-- Sex: string (nullable = true)\n",
      " |-- Age: double (nullable = true)\n",
      " |-- SibSp: integer (nullable = true)\n",
      " |-- Parch: integer (nullable = true)\n",
      " |-- Ticket: string (nullable = true)\n",
      " |-- Fare: double (nullable = true)\n",
      " |-- Cabin: string (nullable = true)\n",
      " |-- Embarked: string (nullable = true)\n",
      "\n"
     ]
    }
   ],
   "source": [
    "data.printSchema()"
   ]
  },
  {
   "cell_type": "code",
   "execution_count": 37,
   "metadata": {},
   "outputs": [],
   "source": [
    "#select columns\n",
    "cols = data.select(['Survived', 'Pclass', 'Sex', 'Age', 'SibSp', 'Parch', 'Fare', 'Embarked'])"
   ]
  },
  {
   "cell_type": "code",
   "execution_count": 38,
   "metadata": {},
   "outputs": [],
   "source": [
    "df_na = cols.na.drop()"
   ]
  },
  {
   "cell_type": "code",
   "execution_count": 40,
   "metadata": {},
   "outputs": [],
   "source": [
    "gender_ind = StringIndexer(inputCol='Sex', outputCol='SexIndex')\n",
    "gender_encoder = OneHotEncoder(inputCol='SexIndex', outputCol='SexVector')"
   ]
  },
  {
   "cell_type": "code",
   "execution_count": 41,
   "metadata": {},
   "outputs": [],
   "source": [
    "embark_ind = StringIndexer(inputCol='Embarked', outputCol='EmbIndex')\n",
    "embark_encoder = OneHotEncoder(inputCol='EmbIndex', outputCol='EmbVector')"
   ]
  },
  {
   "cell_type": "code",
   "execution_count": 42,
   "metadata": {},
   "outputs": [],
   "source": [
    "assemble = VectorAssembler(inputCols= ['Pclass', 'SexVector','EmbVector', 'Age', 'SibSp', 'Parch', 'Fare'], outputCol='features')"
   ]
  },
  {
   "cell_type": "code",
   "execution_count": 45,
   "metadata": {},
   "outputs": [],
   "source": [
    "#pipeline\n",
    "log_reg = LogisticRegression(featuresCol='features', labelCol='Survived')"
   ]
  },
  {
   "cell_type": "code",
   "execution_count": 48,
   "metadata": {},
   "outputs": [],
   "source": [
    "pipeline = Pipeline(stages=[gender_ind, embark_ind,\n",
    "                            gender_encoder, embark_encoder,\n",
    "                            assemble, log_reg])"
   ]
  },
  {
   "cell_type": "code",
   "execution_count": 49,
   "metadata": {},
   "outputs": [],
   "source": [
    " "
   ]
  },
  {
   "cell_type": "code",
   "execution_count": 50,
   "metadata": {},
   "outputs": [],
   "source": [
    "model = pipeline.fit(tr_data)"
   ]
  },
  {
   "cell_type": "code",
   "execution_count": 51,
   "metadata": {},
   "outputs": [],
   "source": [
    "pred = model.transform(ts_data)"
   ]
  },
  {
   "cell_type": "code",
   "execution_count": 56,
   "metadata": {},
   "outputs": [],
   "source": [
    "eval_m = BinaryClassificationEvaluator(rawPredictionCol='prediction',labelCol='Survived')"
   ]
  },
  {
   "cell_type": "code",
   "execution_count": 57,
   "metadata": {},
   "outputs": [],
   "source": [
    "roc = eval_m.evaluate(pred)"
   ]
  },
  {
   "cell_type": "code",
   "execution_count": 58,
   "metadata": {},
   "outputs": [
    {
     "data": {
      "text/plain": [
       "0.7710253456221198"
      ]
     },
     "execution_count": 58,
     "metadata": {},
     "output_type": "execute_result"
    }
   ],
   "source": [
    "roc"
   ]
  },
  {
   "cell_type": "code",
   "execution_count": null,
   "metadata": {},
   "outputs": [],
   "source": []
  }
 ],
 "metadata": {
  "kernelspec": {
   "display_name": "Python 3",
   "language": "python",
   "name": "python3"
  },
  "language_info": {
   "codemirror_mode": {
    "name": "ipython",
    "version": 3
   },
   "file_extension": ".py",
   "mimetype": "text/x-python",
   "name": "python",
   "nbconvert_exporter": "python",
   "pygments_lexer": "ipython3",
   "version": "3.5.2"
  }
 },
 "nbformat": 4,
 "nbformat_minor": 2
}
